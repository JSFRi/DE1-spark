{
 "cells": [
  {
   "cell_type": "code",
   "execution_count": 1,
   "id": "96b62c28",
   "metadata": {},
   "outputs": [
    {
     "name": "stderr",
     "output_type": "stream",
     "text": [
      "WARNING: An illegal reflective access operation has occurred\n",
      "WARNING: Illegal reflective access by org.apache.spark.unsafe.Platform (file:/home/ubuntu/spark-3.2.3-bin-hadoop3.2/jars/spark-unsafe_2.12-3.2.3.jar) to constructor java.nio.DirectByteBuffer(long,int)\n",
      "WARNING: Please consider reporting this to the maintainers of org.apache.spark.unsafe.Platform\n",
      "WARNING: Use --illegal-access=warn to enable warnings of further illegal reflective access operations\n",
      "WARNING: All illegal access operations will be denied in a future release\n",
      "Ivy Default Cache set to: /home/ubuntu/.ivy2/cache\n",
      "The jars for the packages stored in: /home/ubuntu/.ivy2/jars\n"
     ]
    },
    {
     "name": "stdout",
     "output_type": "stream",
     "text": [
      ":: loading settings :: url = jar:file:/home/ubuntu/spark-3.2.3-bin-hadoop3.2/jars/ivy-2.5.0.jar!/org/apache/ivy/core/settings/ivysettings.xml\n"
     ]
    },
    {
     "name": "stderr",
     "output_type": "stream",
     "text": [
      "graphframes#graphframes added as a dependency\n",
      ":: resolving dependencies :: org.apache.spark#spark-submit-parent-1007f98e-7a10-4dfb-a301-399e1310ce55;1.0\n",
      "\tconfs: [default]\n",
      "\tfound graphframes#graphframes;0.8.2-spark3.2-s_2.12 in spark-packages\n",
      "\tfound org.slf4j#slf4j-api;1.7.16 in central\n",
      ":: resolution report :: resolve 495ms :: artifacts dl 4ms\n",
      "\t:: modules in use:\n",
      "\tgraphframes#graphframes;0.8.2-spark3.2-s_2.12 from spark-packages in [default]\n",
      "\torg.slf4j#slf4j-api;1.7.16 from central in [default]\n",
      "\t---------------------------------------------------------------------\n",
      "\t|                  |            modules            ||   artifacts   |\n",
      "\t|       conf       | number| search|dwnlded|evicted|| number|dwnlded|\n",
      "\t---------------------------------------------------------------------\n",
      "\t|      default     |   2   |   0   |   0   |   0   ||   2   |   0   |\n",
      "\t---------------------------------------------------------------------\n",
      ":: retrieving :: org.apache.spark#spark-submit-parent-1007f98e-7a10-4dfb-a301-399e1310ce55\n",
      "\tconfs: [default]\n",
      "\t0 artifacts copied, 2 already retrieved (0kB/4ms)\n",
      "23/02/19 15:35:00 WARN NativeCodeLoader: Unable to load native-hadoop library for your platform... using builtin-java classes where applicable\n",
      "Using Spark's default log4j profile: org/apache/spark/log4j-defaults.properties\n",
      "Setting default log level to \"WARN\".\n",
      "To adjust logging level use sc.setLogLevel(newLevel). For SparkR, use setLogLevel(newLevel).\n",
      "/home/ubuntu/.local/lib/python3.10/site-packages/pyspark/sql/context.py:77: FutureWarning: Deprecated in 3.0.0. Use SparkSession.builder.getOrCreate() instead.\n",
      "  warnings.warn(\n"
     ]
    }
   ],
   "source": [
    "from pyspark import SparkConf, SparkContext\n",
    "from pyspark.sql import SparkSession, SQLContext\n",
    "\n",
    "spark_session = SparkSession.builder\\\n",
    "        .master(\"spark://192.168.2.70:7077\") \\\n",
    "        .appName(\"TianruZ_lecture2_GraphX\")\\\n",
    "        .config(\"spark.dynamicAllocation.enabled\", True)\\\n",
    "        .config(\"spark.dynamicAllocation.shuffleTracking.enabled\",True)\\\n",
    "        .config(\"spark.shuffle.service.enabled\", True)\\\n",
    "        .config(\"spark.dynamicAllocation.executorIdleTimeout\",\"30s\")\\\n",
    "        .config(\"spark.cores.max\", 4)\\\n",
    "        .config(\"spark.jars.packages\",\"graphframes:graphframes:0.8.2-spark3.2-s_2.12\")\\\n",
    "        .getOrCreate()\n",
    "sqlContext = SQLContext(spark_session.sparkContext)"
   ]
  },
  {
   "cell_type": "code",
   "execution_count": 2,
   "id": "7c1c2e8d",
   "metadata": {},
   "outputs": [
    {
     "data": {
      "text/plain": [
       "<pyspark.sql.context.SQLContext at 0x7f038dfb3f10>"
      ]
     },
     "execution_count": 2,
     "metadata": {},
     "output_type": "execute_result"
    }
   ],
   "source": [
    "sqlContext"
   ]
  },
  {
   "cell_type": "code",
   "execution_count": 3,
   "id": "805b0e82",
   "metadata": {},
   "outputs": [],
   "source": [
    "#!pip3 install graphframes\n",
    "from graphframes import *"
   ]
  },
  {
   "cell_type": "markdown",
   "id": "bee4955a",
   "metadata": {},
   "source": [
    "Let's try to create an example social network\n",
    "\n",
    "![https://databricks.com/wp-content/uploads/2016/03/social-network-graph-diagram.png](https://databricks.com/wp-content/uploads/2016/03/social-network-graph-diagram.png)"
   ]
  },
  {
   "cell_type": "code",
   "execution_count": 4,
   "id": "b89dba59",
   "metadata": {},
   "outputs": [
    {
     "name": "stdout",
     "output_type": "stream",
     "text": [
      "GraphFrame(v:[id: string, name: string ... 1 more field], e:[src: string, dst: string ... 1 more field])\n"
     ]
    }
   ],
   "source": [
    "# Create a Vertex DataFrame\n",
    "vertices = sqlContext.createDataFrame([\n",
    "  (\"a\", \"Alice\", 34),\n",
    "  (\"b\", \"Bob\", 36),\n",
    "  (\"c\", \"Charlie\", 30),\n",
    "  (\"d\", \"David\", 29),\n",
    "  (\"e\", \"Esther\", 32),\n",
    "  (\"f\", \"Fanny\", 36),\n",
    "  (\"g\", \"Gabby\", 60)], [\"id\", \"name\", \"age\"])\n",
    "# Create an Edge DataFrame with \"src\", \"dst\", and 'relationship' columns\n",
    "edges = sqlContext.createDataFrame([\n",
    "  (\"a\", \"b\", \"friend\"),\n",
    "  (\"b\", \"c\", \"follow\"),\n",
    "  (\"c\", \"b\", \"follow\"),\n",
    "  (\"f\", \"c\", \"follow\"),\n",
    "  (\"e\", \"f\", \"follow\"),\n",
    "  (\"e\", \"d\", \"friend\"),\n",
    "  (\"d\", \"a\", \"friend\"),\n",
    "  (\"a\", \"e\", \"friend\")\n",
    "], [\"src\", \"dst\", \"relationship\"])\n",
    "# Create a GraphFrame\n",
    "g = GraphFrame(vertices, edges)\n",
    "print(g)"
   ]
  },
  {
   "cell_type": "code",
   "execution_count": 5,
   "id": "611e6068",
   "metadata": {},
   "outputs": [
    {
     "name": "stderr",
     "output_type": "stream",
     "text": [
      "                                                                                \r"
     ]
    },
    {
     "name": "stdout",
     "output_type": "stream",
     "text": [
      "+---+-------+---+\n",
      "| id|   name|age|\n",
      "+---+-------+---+\n",
      "|  a|  Alice| 34|\n",
      "|  b|    Bob| 36|\n",
      "|  c|Charlie| 30|\n",
      "|  d|  David| 29|\n",
      "|  e| Esther| 32|\n",
      "|  f|  Fanny| 36|\n",
      "|  g|  Gabby| 60|\n",
      "+---+-------+---+\n",
      "\n",
      "+---+---+------------+\n",
      "|src|dst|relationship|\n",
      "+---+---+------------+\n",
      "|  a|  b|      friend|\n",
      "|  b|  c|      follow|\n",
      "|  c|  b|      follow|\n",
      "|  f|  c|      follow|\n",
      "|  e|  f|      follow|\n",
      "|  e|  d|      friend|\n",
      "|  d|  a|      friend|\n",
      "|  a|  e|      friend|\n",
      "+---+---+------------+\n",
      "\n",
      "+---+--------+\n",
      "| id|inDegree|\n",
      "+---+--------+\n",
      "|  c|       2|\n",
      "|  b|       2|\n",
      "|  f|       1|\n",
      "|  e|       1|\n",
      "|  d|       1|\n",
      "|  a|       1|\n",
      "+---+--------+\n",
      "\n",
      "+---+---------+\n",
      "| id|outDegree|\n",
      "+---+---------+\n",
      "|  f|        1|\n",
      "|  c|        1|\n",
      "|  b|        1|\n",
      "|  a|        2|\n",
      "|  e|        2|\n",
      "|  d|        1|\n",
      "+---+---------+\n",
      "\n",
      "+---+------+\n",
      "| id|degree|\n",
      "+---+------+\n",
      "|  f|     2|\n",
      "|  c|     3|\n",
      "|  b|     3|\n",
      "|  a|     3|\n",
      "|  e|     3|\n",
      "|  d|     2|\n",
      "+---+------+\n",
      "\n"
     ]
    }
   ],
   "source": [
    "# Basic graph and DataFrame queries\n",
    "\n",
    "## Vertices\n",
    "g.vertices.show()\n",
    "\n",
    "## Edges\n",
    "g.edges.show()\n",
    "\n",
    "## The incoming degree of the vertices:  \n",
    "g.inDegrees.show()\n",
    "\n",
    "## The outgoing degree of the vertices:\n",
    "g.outDegrees.show()\n",
    "\n",
    "## The degree of the vertices:\n",
    "g.degrees.show()"
   ]
  },
  {
   "cell_type": "code",
   "execution_count": 6,
   "id": "f5879ecd",
   "metadata": {},
   "outputs": [
    {
     "name": "stdout",
     "output_type": "stream",
     "text": [
      "+--------+\n",
      "|min(age)|\n",
      "+--------+\n",
      "|      29|\n",
      "+--------+\n",
      "\n",
      "The number of follow edges is 4\n"
     ]
    }
   ],
   "source": [
    "# You can run queries directly on the vertices DataFrame. \n",
    "# For example, we can find the age of the youngest person in the graph:\n",
    "youngest = g.vertices.groupBy().min(\"age\")\n",
    "youngest.show()\n",
    "\n",
    "# Likewise, you can run queries on the edges DataFrame. \n",
    "# For example, let's count the number of 'follow' relationships in the graph:\n",
    "numFollows = g.edges.filter(\"relationship = 'follow'\").count()\n",
    "print(\"The number of follow edges is\", numFollows)"
   ]
  },
  {
   "cell_type": "code",
   "execution_count": 7,
   "id": "61dd6bc8",
   "metadata": {},
   "outputs": [
    {
     "name": "stdout",
     "output_type": "stream",
     "text": [
      "+----------------+--------------+----------------+--------------+\n",
      "|               a|             e|               b|            e2|\n",
      "+----------------+--------------+----------------+--------------+\n",
      "|{c, Charlie, 30}|{c, b, follow}|    {b, Bob, 36}|{b, c, follow}|\n",
      "|    {b, Bob, 36}|{b, c, follow}|{c, Charlie, 30}|{c, b, follow}|\n",
      "+----------------+--------------+----------------+--------------+\n",
      "\n"
     ]
    }
   ],
   "source": [
    "# Motif finding\n",
    "## Using motifs you can build more complex relationships involving edges and vertices. \n",
    "## The following codes find the pairs of vertices with edges in both directions between them. \n",
    "## The result is a DataFrame, in which the column names are given by the motif keys.\n",
    "## Check out the GraphFrame User Guide for more details on the API.\n",
    "\n",
    "# Search for pairs of vertices with edges in both directions between them.\n",
    "motifs = g.find(\"(a)-[e]->(b); (b)-[e2]->(a)\")\n",
    "motifs.show()"
   ]
  },
  {
   "cell_type": "code",
   "execution_count": 8,
   "id": "06e1b3b7",
   "metadata": {},
   "outputs": [
    {
     "name": "stdout",
     "output_type": "stream",
     "text": [
      "+----------------+--------------+------------+--------------+\n",
      "|               a|             e|           b|            e2|\n",
      "+----------------+--------------+------------+--------------+\n",
      "|{c, Charlie, 30}|{c, b, follow}|{b, Bob, 36}|{b, c, follow}|\n",
      "+----------------+--------------+------------+--------------+\n",
      "\n"
     ]
    }
   ],
   "source": [
    "# Since the result is a DataFrame, more complex queries can be built on top of the motif.\n",
    "filtered = motifs.filter(\"b.age > 30\")\n",
    "filtered.show()"
   ]
  },
  {
   "cell_type": "code",
   "execution_count": 9,
   "id": "e653066a",
   "metadata": {},
   "outputs": [
    {
     "name": "stdout",
     "output_type": "stream",
     "text": [
      "+---+------+---+\n",
      "| id|  name|age|\n",
      "+---+------+---+\n",
      "|  b|   Bob| 36|\n",
      "|  a| Alice| 34|\n",
      "|  e|Esther| 32|\n",
      "+---+------+---+\n",
      "\n",
      "+---+---+------------+\n",
      "|src|dst|relationship|\n",
      "+---+---+------------+\n",
      "|  a|  b|      friend|\n",
      "|  a|  e|      friend|\n",
      "+---+---+------------+\n",
      "\n"
     ]
    }
   ],
   "source": [
    "# Subgraphs\n",
    "# GraphFrames provides APIs for building subgraphs by filtering on edges and vertices. \n",
    "# These filters can be composed together, for example the following subgraph only includes people who are more than 30 years old and have friends who are more than 30 years old.\n",
    "\n",
    "g2 = g.filterEdges(\"relationship = 'friend'\").filterVertices(\"age > 30\").dropIsolatedVertices()\n",
    "g2.vertices.show()\n",
    "g2.edges.show()"
   ]
  },
  {
   "cell_type": "code",
   "execution_count": 10,
   "id": "e8a94488",
   "metadata": {},
   "outputs": [],
   "source": [
    "# Standard graph algorithms\n",
    "# GraphFrames comes with a number of standard graph algorithms built in:\n",
    "\n",
    "# Breadth-first search (BFS)\n",
    "# Connected components\n",
    "# Strongly connected components\n",
    "# Label Propagation Algorithm (LPA)\n",
    "# PageRank (regular and personalized)\n",
    "# Shortest paths\n",
    "# Triangle count\n",
    "\n",
    "# find more via https://graphframes.github.io/graphframes/docs/_site/user-guide.html"
   ]
  },
  {
   "cell_type": "code",
   "execution_count": 11,
   "id": "dd593aaa",
   "metadata": {},
   "outputs": [
    {
     "name": "stdout",
     "output_type": "stream",
     "text": [
      "+---------------+--------------+--------------+\n",
      "|           from|            e0|            to|\n",
      "+---------------+--------------+--------------+\n",
      "|{e, Esther, 32}|{e, d, friend}|{d, David, 29}|\n",
      "+---------------+--------------+--------------+\n",
      "\n"
     ]
    }
   ],
   "source": [
    "# Breadth-first search (BFS)\n",
    "# Search from \"Esther\" for users of age < 32.\n",
    "\n",
    "paths = g.bfs(\"name = 'Esther'\", \"age < 32\")\n",
    "paths.show()"
   ]
  },
  {
   "cell_type": "code",
   "execution_count": 12,
   "id": "9bb26340",
   "metadata": {},
   "outputs": [
    {
     "name": "stderr",
     "output_type": "stream",
     "text": [
      "[Stage 174:>                                                        (0 + 1) / 1]\r"
     ]
    },
    {
     "name": "stdout",
     "output_type": "stream",
     "text": [
      "+---+-------+---+----------------+\n",
      "| id|   name|age|       distances|\n",
      "+---+-------+---+----------------+\n",
      "|  g|  Gabby| 60|              {}|\n",
      "|  f|  Fanny| 36|              {}|\n",
      "|  e| Esther| 32|{a -> 2, d -> 1}|\n",
      "|  d|  David| 29|{a -> 1, d -> 0}|\n",
      "|  c|Charlie| 30|              {}|\n",
      "|  b|    Bob| 36|              {}|\n",
      "|  a|  Alice| 34|{a -> 0, d -> 2}|\n",
      "+---+-------+---+----------------+\n",
      "\n"
     ]
    },
    {
     "name": "stderr",
     "output_type": "stream",
     "text": [
      "\r",
      "                                                                                \r"
     ]
    }
   ],
   "source": [
    "# Shortest paths\n",
    "# Computes shortest paths to the given set of landmark vertices, where landmarks are specified by vertex ID.\n",
    "\n",
    "results = g.shortestPaths(landmarks=[\"a\", \"d\"])\n",
    "results.show()"
   ]
  },
  {
   "cell_type": "code",
   "execution_count": 13,
   "id": "872735ed",
   "metadata": {},
   "outputs": [
    {
     "name": "stdout",
     "output_type": "stream",
     "text": [
      "+-----+---+-------+---+\n",
      "|count| id|   name|age|\n",
      "+-----+---+-------+---+\n",
      "|    0|  c|Charlie| 30|\n",
      "|    0|  b|    Bob| 36|\n",
      "|    1|  a|  Alice| 34|\n",
      "|    0|  g|  Gabby| 60|\n",
      "|    0|  f|  Fanny| 36|\n",
      "|    1|  e| Esther| 32|\n",
      "|    1|  d|  David| 29|\n",
      "+-----+---+-------+---+\n",
      "\n"
     ]
    }
   ],
   "source": [
    "# Triangle count\n",
    "# Computes the number of triangles passing through each vertex.\n",
    "\n",
    "results = g.triangleCount()\n",
    "results.show()"
   ]
  },
  {
   "cell_type": "code",
   "execution_count": 14,
   "id": "31a396cc",
   "metadata": {},
   "outputs": [
    {
     "name": "stdout",
     "output_type": "stream",
     "text": [
      "+---+-------+---+-------------------+\n",
      "| id|   name|age|           pagerank|\n",
      "+---+-------+---+-------------------+\n",
      "|  g|  Gabby| 60| 0.1799821386239711|\n",
      "|  f|  Fanny| 36| 0.3283606792049851|\n",
      "|  e| Esther| 32|0.37085233187676075|\n",
      "|  d|  David| 29| 0.3283606792049851|\n",
      "|  c|Charlie| 30| 2.6878300011606218|\n",
      "|  b|    Bob| 36|  2.655507832863289|\n",
      "|  a|  Alice| 34|0.44910633706538744|\n",
      "+---+-------+---+-------------------+\n",
      "\n",
      "+---+---+------------+------+\n",
      "|src|dst|relationship|weight|\n",
      "+---+---+------------+------+\n",
      "|  f|  c|      follow|   1.0|\n",
      "|  e|  f|      follow|   0.5|\n",
      "|  e|  d|      friend|   0.5|\n",
      "|  d|  a|      friend|   1.0|\n",
      "|  c|  b|      follow|   1.0|\n",
      "|  b|  c|      follow|   1.0|\n",
      "|  a|  e|      friend|   0.5|\n",
      "|  a|  b|      friend|   0.5|\n",
      "+---+---+------------+------+\n",
      "\n"
     ]
    }
   ],
   "source": [
    "# PageRank\n",
    "# Identify important vertices in a graph based on connections.\n",
    "\n",
    "results = g.pageRank(resetProbability=0.15, tol=0.01)#, maxIter=10) # or for a certain num of iters\n",
    "results.vertices.show()\n",
    "results.edges.show()"
   ]
  },
  {
   "cell_type": "code",
   "execution_count": 15,
   "id": "944327d1",
   "metadata": {},
   "outputs": [],
   "source": [
    "spark_session.stop()"
   ]
  }
 ],
 "metadata": {
  "kernelspec": {
   "display_name": "Python 3 (ipykernel)",
   "language": "python",
   "name": "python3"
  },
  "language_info": {
   "codemirror_mode": {
    "name": "ipython",
    "version": 3
   },
   "file_extension": ".py",
   "mimetype": "text/x-python",
   "name": "python",
   "nbconvert_exporter": "python",
   "pygments_lexer": "ipython3",
   "version": "3.10.6"
  }
 },
 "nbformat": 4,
 "nbformat_minor": 5
}
