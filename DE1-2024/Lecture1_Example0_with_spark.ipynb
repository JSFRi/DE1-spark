{
 "cells": [
  {
   "cell_type": "code",
   "execution_count": 1,
   "metadata": {},
   "outputs": [
    {
     "name": "stderr",
     "output_type": "stream",
     "text": [
      "WARNING: An illegal reflective access operation has occurred\n",
      "WARNING: Illegal reflective access by org.apache.spark.unsafe.Platform (file:/home/ubuntu/.local/lib/python3.10/site-packages/pyspark/jars/spark-unsafe_2.12-3.2.3.jar) to constructor java.nio.DirectByteBuffer(long,int)\n",
      "WARNING: Please consider reporting this to the maintainers of org.apache.spark.unsafe.Platform\n",
      "WARNING: Use --illegal-access=warn to enable warnings of further illegal reflective access operations\n",
      "WARNING: All illegal access operations will be denied in a future release\n",
      "Using Spark's default log4j profile: org/apache/spark/log4j-defaults.properties\n",
      "Setting default log level to \"WARN\".\n",
      "To adjust logging level use sc.setLogLevel(newLevel). For SparkR, use setLogLevel(newLevel).\n",
      "23/02/10 10:52:23 WARN NativeCodeLoader: Unable to load native-hadoop library for your platform... using builtin-java classes where applicable\n",
      "23/02/10 10:52:26 WARN Utils: Service 'SparkUI' could not bind on port 4040. Attempting port 4041.\n",
      "23/02/10 10:52:28 WARN ExecutorAllocationManager: Dynamic allocation without a shuffle service is an experimental feature.\n"
     ]
    }
   ],
   "source": [
    "from pyspark.sql import SparkSession\n",
    "from operator import add\n",
    "\n",
    "spark_session = SparkSession.builder\\\n",
    "        .master(\"spark://192.168.2.70:7077\") \\\n",
    "        .appName(\"TianruZ_lecture1_hdfs_example\")\\\n",
    "        .config(\"spark.dynamicAllocation.enabled\", True)\\\n",
    "        .config(\"spark.dynamicAllocation.shuffleTracking.enabled\",True)\\\n",
    "        .config(\"spark.shuffle.service.enabled\", True)\\\n",
    "        .config(\"spark.dynamicAllocation.executorIdleTimeout\",\"30s\")\\\n",
    "        .config(\"spark.cores.max\", 4)\\\n",
    "        .getOrCreate()\n",
    "\n",
    "# Old API (RDD)\n",
    "spark_context = spark_session.sparkContext\n",
    "\n",
    "spark_context.setLogLevel(\"ERROR\")"
   ]
  },
  {
   "cell_type": "code",
   "execution_count": 2,
   "metadata": {},
   "outputs": [
    {
     "name": "stderr",
     "output_type": "stream",
     "text": [
      "                                                                                \r"
     ]
    },
    {
     "data": {
      "text/plain": [
       "'I am happy to join with you today in what will go down in history as the greatest demonstration for freedom in the history of our nation.'"
      ]
     },
     "execution_count": 2,
     "metadata": {},
     "output_type": "execute_result"
    }
   ],
   "source": [
    "lines = spark_context.textFile('/home/ubuntu/i_have_a_dream.txt')\n",
    "lines.first()"
   ]
  },
  {
   "cell_type": "code",
   "execution_count": 3,
   "metadata": {},
   "outputs": [
    {
     "data": {
      "text/plain": [
       "2"
      ]
     },
     "execution_count": 3,
     "metadata": {},
     "output_type": "execute_result"
    }
   ],
   "source": [
    "lines.getNumPartitions()"
   ]
  },
  {
   "cell_type": "code",
   "execution_count": 4,
   "metadata": {},
   "outputs": [
    {
     "name": "stdout",
     "output_type": "stream",
     "text": [
      "I am happy to join with you today in what will go down in history as the greatest demonstration for freedom in the history of our nation.\n",
      "total words= 1680\n"
     ]
    }
   ],
   "source": [
    "# The same example, this time using map and reduce from the Spark API, and loading the text file from HDFS.\n",
    "\n",
    "lines = spark_context.textFile(\"hdfs://192.168.2.70:9000/king_dream.txt\")\n",
    "#lines = spark_context.textFile(\"/home/ubuntu/i_have_a_dream.txt\")\n",
    "print(lines.first())\n",
    "\n",
    "words = lines.map(lambda line: line.split(' '))\n",
    "\n",
    "word_counts = words.map(lambda w: len(w))\n",
    "\n",
    "total_words = word_counts.reduce(add)\n",
    "\n",
    "print(f'total words= {total_words}')  \n",
    "\n",
    "# ... the same number of words?"
   ]
  },
  {
   "cell_type": "code",
   "execution_count": 5,
   "metadata": {},
   "outputs": [
    {
     "data": {
      "text/plain": [
       "['I am happy to join with you today in what will go down in history as the greatest demonstration for freedom in the history of our nation.',\n",
       " '',\n",
       " 'Five score years ago, a great American, in whose symbolic shadow we stand today, signed the Emancipation Proclamation. This momentous decree came as a great beacon light of hope to millions of Negro slaves who had been seared in the flames of withering injustice. It came as a joyous daybreak to end the long night of their captivity.',\n",
       " '',\n",
       " 'But one hundred years later, the Negro still is not free. One hundred years later, the life of the Negro is still sadly crippled by the manacles of segregation and the chains of discrimination. One hundred years later, the Negro lives on a lonely island of poverty in the midst of a vast ocean of material prosperity. One hundred years later, the Negro is still languishing in the corners of American society and finds himself an exile in his own land. So we have come here today to dramatize a shameful condition.',\n",
       " '',\n",
       " \"In a sense we have come to our nation's capital to cash a check. When the architects of our republic wrote the magnificent words of the Constitution and the Declaration of Independence, they were signing a promissory note to which every American was to fall heir. This note was a promise that all men, yes, black men as well as white men, would be guaranteed the unalienable rights of life, liberty, and the pursuit of happiness.\",\n",
       " '',\n",
       " 'It is obvious today that America has defaulted on this promissory note insofar as her citizens of color are concerned. Instead of honoring this sacred obligation, America has given the Negro people a bad check, a check which has come back marked \"insufficient funds.\" But we refuse to believe that the bank of justice is bankrupt. We refuse to believe that there are insufficient funds in the great vaults of opportunity of this nation. So we have come to cash this check -- a check that will give us upon demand the riches of freedom and the security of justice. We have also come to this hallowed spot to remind America of the fierce urgency of now. This is no time to engage in the luxury of cooling off or to take the tranquilizing drug of gradualism. Now is the time to make real the promises of democracy. Now is the time to rise from the dark and desolate valley of segregation to the sunlit path of racial justice. Now is the time to lift our nation from the quick sands of racial injustice to the solid rock of brotherhood. Now is the time to make justice a reality for all of God\\'s children.',\n",
       " '']"
      ]
     },
     "execution_count": 5,
     "metadata": {},
     "output_type": "execute_result"
    }
   ],
   "source": [
    "lines.take(10)"
   ]
  },
  {
   "cell_type": "code",
   "execution_count": 6,
   "metadata": {},
   "outputs": [
    {
     "name": "stdout",
     "output_type": "stream",
     "text": [
      "['I', 'am', 'happy', 'to', 'join', 'with', 'you', 'today', 'in', 'what', 'will', 'go', 'down', 'in', 'history', 'as', 'the', 'greatest', 'demonstration', 'for', 'freedom', 'in', 'the', 'history', 'of', 'our', 'nation.']\n"
     ]
    }
   ],
   "source": [
    "lines_splitted = lines.map(lambda line: line.split(' '))\n",
    "print(lines_splitted.first())"
   ]
  },
  {
   "cell_type": "code",
   "execution_count": 7,
   "metadata": {
    "scrolled": true
   },
   "outputs": [
    {
     "data": {
      "text/plain": [
       "['I',\n",
       " 'am',\n",
       " 'happy',\n",
       " 'to',\n",
       " 'join',\n",
       " 'with',\n",
       " 'you',\n",
       " 'today',\n",
       " 'in',\n",
       " 'what',\n",
       " 'will',\n",
       " 'go',\n",
       " 'down',\n",
       " 'in',\n",
       " 'history',\n",
       " 'as',\n",
       " 'the',\n",
       " 'greatest',\n",
       " 'demonstration',\n",
       " 'for',\n",
       " 'freedom',\n",
       " 'in',\n",
       " 'the',\n",
       " 'history',\n",
       " 'of',\n",
       " 'our',\n",
       " 'nation.',\n",
       " '',\n",
       " 'Five',\n",
       " 'score',\n",
       " 'years',\n",
       " 'ago,',\n",
       " 'a',\n",
       " 'great',\n",
       " 'American,',\n",
       " 'in',\n",
       " 'whose',\n",
       " 'symbolic',\n",
       " 'shadow',\n",
       " 'we',\n",
       " 'stand',\n",
       " 'today,',\n",
       " 'signed',\n",
       " 'the',\n",
       " 'Emancipation',\n",
       " 'Proclamation.',\n",
       " 'This',\n",
       " 'momentous',\n",
       " 'decree',\n",
       " 'came',\n",
       " 'as',\n",
       " 'a',\n",
       " 'great',\n",
       " 'beacon',\n",
       " 'light',\n",
       " 'of',\n",
       " 'hope',\n",
       " 'to',\n",
       " 'millions',\n",
       " 'of',\n",
       " 'Negro',\n",
       " 'slaves',\n",
       " 'who',\n",
       " 'had',\n",
       " 'been',\n",
       " 'seared',\n",
       " 'in',\n",
       " 'the',\n",
       " 'flames',\n",
       " 'of',\n",
       " 'withering',\n",
       " 'injustice.',\n",
       " 'It',\n",
       " 'came',\n",
       " 'as',\n",
       " 'a',\n",
       " 'joyous',\n",
       " 'daybreak',\n",
       " 'to',\n",
       " 'end',\n",
       " 'the',\n",
       " 'long',\n",
       " 'night',\n",
       " 'of',\n",
       " 'their',\n",
       " 'captivity.',\n",
       " '',\n",
       " 'But',\n",
       " 'one',\n",
       " 'hundred',\n",
       " 'years',\n",
       " 'later,',\n",
       " 'the',\n",
       " 'Negro',\n",
       " 'still',\n",
       " 'is',\n",
       " 'not',\n",
       " 'free.',\n",
       " 'One',\n",
       " 'hundred']"
      ]
     },
     "execution_count": 7,
     "metadata": {},
     "output_type": "execute_result"
    }
   ],
   "source": [
    "# Note, we're in Python, but using Java naming conventions!\n",
    "\n",
    "all_words = lines.flatMap(lambda line: line.split(' '))\n",
    "all_words.take(100)"
   ]
  },
  {
   "cell_type": "code",
   "execution_count": 8,
   "metadata": {},
   "outputs": [
    {
     "data": {
      "text/plain": [
       "['down',\n",
       " 'demonstration',\n",
       " 'decree',\n",
       " 'daybreak',\n",
       " 'discrimination.',\n",
       " 'dramatize',\n",
       " 'defaulted',\n",
       " 'demand',\n",
       " 'drug',\n",
       " 'democracy.',\n",
       " 'dark',\n",
       " 'desolate',\n",
       " 'discontent',\n",
       " 'day',\n",
       " 'deeds.',\n",
       " 'drinking',\n",
       " 'dignity',\n",
       " 'discipline.',\n",
       " 'degenerate',\n",
       " 'distrust']"
      ]
     },
     "execution_count": 8,
     "metadata": {},
     "output_type": "execute_result"
    }
   ],
   "source": [
    "all_words.filter(lambda word: word.startswith('d'))\\\n",
    "         .take(20)"
   ]
  },
  {
   "cell_type": "code",
   "execution_count": 9,
   "metadata": {},
   "outputs": [],
   "source": [
    "# release the cores for another application!\n",
    "spark_context.stop()"
   ]
  },
  {
   "cell_type": "code",
   "execution_count": null,
   "metadata": {},
   "outputs": [],
   "source": []
  }
 ],
 "metadata": {
  "kernelspec": {
   "display_name": "Python 3 (ipykernel)",
   "language": "python",
   "name": "python3"
  },
  "language_info": {
   "codemirror_mode": {
    "name": "ipython",
    "version": 3
   },
   "file_extension": ".py",
   "mimetype": "text/x-python",
   "name": "python",
   "nbconvert_exporter": "python",
   "pygments_lexer": "ipython3",
   "version": "3.10.6"
  },
  "toc": {
   "base_numbering": 1,
   "nav_menu": {},
   "number_sections": true,
   "sideBar": true,
   "skip_h1_title": false,
   "title_cell": "Table of Contents",
   "title_sidebar": "Contents",
   "toc_cell": false,
   "toc_position": {},
   "toc_section_display": true,
   "toc_window_display": false
  }
 },
 "nbformat": 4,
 "nbformat_minor": 4
}
