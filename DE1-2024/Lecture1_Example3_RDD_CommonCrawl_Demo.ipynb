{
 "cells": [
  {
   "cell_type": "code",
   "execution_count": 1,
   "metadata": {},
   "outputs": [
    {
     "name": "stderr",
     "output_type": "stream",
     "text": [
      "Setting default log level to \"WARN\".\n",
      "To adjust logging level use sc.setLogLevel(newLevel). For SparkR, use setLogLevel(newLevel).\n",
      "24/01/29 13:19:30 WARN NativeCodeLoader: Unable to load native-hadoop library for your platform... using builtin-java classes where applicable\n"
     ]
    }
   ],
   "source": [
    "from operator import add\n",
    "import re\n",
    "from collections import OrderedDict\n",
    "from operator import itemgetter \n",
    "import itertools\n",
    "from pyspark.sql import SparkSession\n",
    "\n",
    "# New API\n",
    "spark_session = SparkSession\\\n",
    "        .builder\\\n",
    "        .master(\"spark://192.168.2.250:7077\") \\\n",
    "        .appName(\"TianruZ_common_crawl\")\\\n",
    "        .config(\"spark.executor.cores\",4)\\\n",
    "        .config(\"spark.dynamicAllocation.enabled\", True)\\\n",
    "        .config(\"spark.dynamicAllocation.shuffleTracking.enabled\", True)\\\n",
    "        .config(\"spark.shuffle.service.enabled\", False)\\\n",
    "        .config(\"spark.dynamicAllocation.executorIdleTimeout\",\"30s\")\\\n",
    "        .config(\"spark.driver.port\",9999)\\\n",
    "        .config(\"spark.blockManager.port\",10005)\\\n",
    "        .getOrCreate()\n",
    "\n",
    "\n",
    "# RDD API \n",
    "spark_context = spark_session.sparkContext\n",
    "\n",
    "spark_context.setLogLevel(\"ERROR\")"
   ]
  },
  {
   "cell_type": "code",
   "execution_count": 2,
   "metadata": {},
   "outputs": [
    {
     "name": "stderr",
     "output_type": "stream",
     "text": [
      "                                                                                \r"
     ]
    },
    {
     "data": {
      "text/plain": [
       "36541"
      ]
     },
     "execution_count": 2,
     "metadata": {},
     "output_type": "execute_result"
    }
   ],
   "source": [
    "\n",
    "# (*/*) - out of memory›\n",
    "# ~6.4mins for 39496 files. (...00000/)  (takes 1 minute with 40 partitions)\n",
    "# ~5 secs for 10 files (...00000/0*) \n",
    "# ~20 secs for 11110 files (...00000/1*) \n",
    "\n",
    "\n",
    "rdd = spark_context.newAPIHadoopFile(\n",
    "    'hdfs://192.168.2.250:9000/Common_Crawl/CC-MAIN-20231128083443-20231128113443-00000.warc.wet',\n",
    "    'org.apache.hadoop.mapreduce.lib.input.TextInputFormat',\n",
    "    'org.apache.hadoop.io.LongWritable',\n",
    "    'org.apache.hadoop.io.Text',\n",
    "    conf={'textinputformat.record.delimiter': 'WARC/1.0'}\n",
    ")\\\n",
    ".cache() # Keep this RDD in memory!\n",
    "\n",
    "rdd.count()\n",
    "# Only one job (previous .cache() did not trigger a job)"
   ]
  },
  {
   "cell_type": "code",
   "execution_count": 3,
   "metadata": {},
   "outputs": [
    {
     "data": {
      "text/plain": [
       "[(0, ''),\n",
       " (8,\n",
       "  '\\r\\nWARC-Type: warcinfo\\r\\nWARC-Date: 2023-12-12T01:49:07Z\\r\\nWARC-Filename: CC-MAIN-20231128083443-20231128113443-00000.warc.wet.gz\\r\\nWARC-Record-ID: <urn:uuid:965b7f0e-e769-4c47-9e28-f7d9120e1027>\\r\\nContent-Type: application/warc-fields\\r\\nContent-Length: 382\\r\\n\\r\\nSoftware-Info: ia-web-commons.1.1.10-SNAPSHOT-20231102093126\\r\\nExtracted-Date: Tue, 12 Dec 2023 01:49:07 GMT\\r\\nrobots: checked via crawler-commons 1.5-SNAPSHOT (https://github.com/crawler-commons/crawler-commons)\\r\\nisPartOf: CC-MAIN-2023-50\\r\\noperator: Common Crawl Admin (info@commoncrawl.org)\\r\\ndescription: Wide crawl of the web for November/December 2023\\r\\npublisher: Common Crawl\\r\\n\\r\\n\\r\\n\\r\\n'),\n",
       " (657,\n",
       "  '\\r\\nWARC-Type: conversion\\r\\nWARC-Target-URI: http://0-50.ru/news/line/2014-07-13/id_43733.html\\r\\nWARC-Date: 2023-11-28T11:34:01Z\\r\\nWARC-Record-ID: <urn:uuid:ea93f3a5-6e42-46bb-b2da-bbc91ff80ef0>\\r\\nWARC-Refers-To: <urn:uuid:60a1e8f3-68a9-437c-937c-e52edd95c91c>\\r\\nWARC-Block-Digest: sha1:IAHHMFYRVDRXUQQMQTZA3KR4GKQEF2XB\\r\\nWARC-Identified-Content-Language: rus\\r\\nContent-Type: text/plain\\r\\nContent-Length: 16599\\r\\n\\r\\nНовости 0-50.ru | Порошенко выразил соболезнования родным и близким Валерии Новодворской |\\n|\\nПогода в Екатеринбурге и Свердловской области |\\nЧто приготовить на ужин рецепт с фото |\\nНовости Екатеринбурга |\\n96women.ru - Живой Женский Журнал |\\nГлавная\\nРедакция\\nРеклама\\nО проекте\\nRSS\\nОбратная связь\\nВсе новости\\nЕкатеринбург\\nРоссия и мир\\nОбразование\\nНедвижимость\\nЗдоровье\\nСпорт\\nПроисшествия\\nТранспорт\\nНовости компаний\\nДругая жизнь\\nСтатьи\\nПорошенко выразил соболезнования родным и близким Валерии Новодворской\\nПрезидент Украины Петр Порошенко выразил свои соболезнования родным и близким Валерии Новодворской, скончавшейся накануне.\\n\"Патриотка России и друг Украины, она еще с момента вторжения советских войск в Чехословакию жила с лозунгом \"За нашу и вашу свободу\"! Выражаю грусть и глубокое соболезнование родным и близким покойной, всем тем, для кого Валерия Ильинична была авторитетным и дорогим человеком\", – говорится в сообщении Порошенко в Facebook.\\nПравозащитница Новодворская скончалась в Москве на 65-м году жизни.\\nТэги: Валерия Новодворская, умерла Валерия Новодворская, Валерия Новодворская скончалась, от чего умерла Валерия Новодворская, похороны Валерии Новодворской, причина смерти Валерии Новодворской, отчего умерла новодворская, похороны новодворской, новодворская скончалась причина смерти\\n13.07.2014 22:56\\nНовости\\nКоллектив салонов оптики «ОЧКИ КУДЕЛИНОЙ» поздравляет горожан с наступающим 2020 годом!\\nОпытные врачи офтальмологи более 15 лет помогают людям увидеть мир во всем его многообразии\\nМежрегиональная общественная организация «Аистенок» проводит благотворительную акцию «Чашка тепла»\\n9 и 10 ноября в Екатеринбурге\\nЕкатеринбургский центр занятости приглашает граждан предпенсионного и пенсионного возраста на ярмарку вакансий\\n3 октября 2019 года с 12:00 до 14:00 часов в Межрайонном отделе №1 (г. Екатеринбург, ул. Шейнкмана, 22)\\nБлаготворительный фонд Антона Шипулина предлагает студентам возможность воплотить свои идеи и получить финансовую поддержку\\n19-20 сентября в Конгресс-Центре Marins Park Hotel\\nВ Екатеринбурге работодатели ищут мастера временных татуировок на море, тренера по художественной гимнастике и актера\\nВырваться на море и при этом заработать\\nЕкатеринбургский центр занятости приглашает граждан с ограниченными возможностями здоровья на ярмарку вакансий\\n20 июня 2019 года с 12:00 до 13:00 часов в Межрайонном отделе №1 (г. Екатеринбург, ул. Шейнкмана, 22)\\nЕкатеринбургский центр занятости приглашает горожан на ярмарку вакансий\\nЯрмарка предоставляет жителям города возможность найти работу, а работодателям – эффективно заполнить вакантные места\\nЖитель Екатеринбурга продает картину «Наследие Джобса», выполненную полностью из корпусов iPhone\\nЕе стоимость екатеринбуржец оценил в 250 тысяч рублей\\n«Уральские авиалинии» поздравляют с Днем Победы и дарят скидку 50% на полеты в Москву\\nПериод действия промокода с 8 по 15 мая 2019 года на вылеты с 8 мая по 30 июня 2019 года\\nПоздравление с 9 мая от Свердловской региональной общественной организации «Аистенок»\\nПусть ни один ребенок не узнает и не увидит, что такое война\\nПоздравление с 9 мая от сети салонов оптики «Очки Куделиной»\\nВесеннего вам настроения, счастья и благополучия!\\n1 мая улицы Пушкина, Ленина, Ельцина и 8 Марта перекроют с 06:00 до 15:30\\nдля всех видов транспорта, включая автобусы и трамваи\\nПогода в Екатеринбурге на неделе порадует стабильным плюсом днем и минусом ночью\\nВсе дни будет малооблачно\\nВ Екатеринбурге на парковке аэропорта Кольцово люди в масках расстреляли автомобиль\\nобъявлен план «Перехват»\\nПогода в Екатеринбурге в выходные порадует теплом и отсутствием осадков\\nВ этом году в марте температура воздуха днем на несколько градусов выше нормы\\n«Мисс Екатеринбург 2018» Арина Верина прошла кастинг на конкурс красоты «Мисс Россия 2019»\\n13 марта 2019 года в Москве пройдет финал конкурса\\nВ Тюмени и Тобольске пройдёт отборочный этап Всероссийского конкурса детского и юношеского творчества «Земля талантов»\\nВ конкурсе могут принять участие дети и подростки следующих возрастных категорий: с 7 до 10 лет, с 11 до 14, с 15 до 17 (включительно)\\nВалерий Юн: поздравление с 8 марта\\nМилые наши женщины, поздравляю вас с прошедшим женским днём!\\nНегосударственная экспертная организация «Независимая экспертиза «на Чебышева» поздравляет всех женщин России с наступающим праздником 8 марта!\\nЖелаем, чтобы Вас обошли все беды и неурядицы\\nСвердловские полицейские призывают граждан сообщать, где торгуют смертью\\nНа территории Свердловской области в ближайшие дни стартует широкомасштабная профилактическая акция «Сообщи, где торгуют смертью»\\n1613 1612 1611 1610 1609 1608 ... 1 >\\nОблако тегов\\nновости дом 2 2013 новости дом 2 2012 Пожар новости Дагестана погода в Москве беспорядки в Донецке новости Украины новости биатлона футбол России н Биатлон происшествия в Москве новости дом 2 сегодня новости Крыма сегодня новости Луганска сегодня убийство украина новости сегодня футбол сегодня санкции новости Славянска ДТП в Екатеринбурге Александр Мишарин сплетни дом 2 состав сборной России авария новости украины сегодня новости москвы новости Киева сегодня проишествия в москве новости киева США слухи на дом 2 новости дом 2 свежие новости дом 2 на сегодня Футбол футбол чемпионат России новости футбола новости Одессы авария в Екатеринбурге что происходит в Славянске новости Петербурга ДТП новости дом 2 новости екатеринбурга новости Луганска Владимир Путин операция в Славянске дом 2 свежие новости новости Севастополя новости Донецка Свердловская область дом 2 новости новости Крыма киев новости донецк новости сегодня Евгений Куйвашев новости Харькова санкции против России беспорядки в Киеве новости Краматорска\\nГлавная | Карта сайта | RSS Feed\\nНовости\\nДыхательные тренажеры , зачем и каковы их отличия\\nКакая основная причина давления, инсульта? Как доступным способом уйти от проблем с сосудами и жить до глубокой старости?\\nДыхательные тренажеры: для чего они и каковы их отличия?\\nПошив и продажа авточехлов для иномарок и отечественных автомобилей оптом и в розницу в Екатеринбурге\\nОфициальный сервисный центр Whirlpool Corporation открыл свои двери жителям Екатеринбурга\\nКакие услуги можно получить по полису ОМС (обязательного медицинского страхования) бесплатно\\nПрофилактика вирусных инфекций в рекомендациях кандидата медицинских наук, врача-инфекциониста высшей категории Щинова Андрея Ивановича\\nНовости СМИ2\\nКоллектив салонов оптики «ОЧКИ КУДЕЛИНОЙ» поздравляет горожан с наступающим 2020 годом!\\nБлаготворительный фонд Антона Шипулина и Благотворительный фонд «Общества Малышева-73 «Добрые дела» откроют еще 4 спортивных объекта\\nВ Екатеринбурге пройдет шестой Свердловский химический турнир\\nАнтон Шипулин и Игорь Заводовский откроют в Екатеринбурге три новые площадки для занятий по воркауту\\nМежрегиональная общественная организация «Аистенок» проводит благотворительную акцию «Чашка тепла»\\nЕкатеринбургский центр занятости приглашает граждан предпенсионного и пенсионного возраста на ярмарку вакансий\\nБлаготворительный фонд Антона Шипулина предлагает студентам возможность воплотить свои идеи и получить финансовую поддержку\\nВ Екатеринбурге перекроют движение по Красноармейской, Калинина, Шейнкмана, Попова, Мичурина и Тверитина\\nВсе новости…\\nАктуально\\nКакая основная причина давления, инсульта? Как доступным способом уйти от проблем с сосудами и жить до глубокой старости?\\nДыхательные тренажеры: для чего они и каковы их отличия?\\nПошив и продажа авточехлов для иномарок и отечественных автомобилей оптом и в розницу в Екатеринбурге\\nОфициальный сервисный центр Whirlpool Corporation открыл свои двери жителям Екатеринбурга\\nКакие услуги можно получить по полису ОМС (обязательного медицинского страхования) бесплатно\\nЕкатеринбургский центр занятости предлагает горожанам записаться на консультацию на сайте Департамента по труду и занятости Свердловской области\\nЕкатеринбургский центр занятости приглашает граждан предпенсионного возраста пройти бесплатное обучение\\nЧто приготовить на ужин быстро и вкусно: салат из куриной грудки рецепт с фото своими руками или на заказ\\nМежрегиональная общественная организация «Аистенок» проводит благотворительную акцию «Мама, останься!»\\nЛечение синдрома хронической усталости с помощью дыхательных упражнений\\nТорт из морковки простой рецепт с фото своими руками или на заказ\\nИмущественные споры граждан при разводе (расторжении брака) в мировом суде: «Эксперт-Ком» Екатеринбург\\nЧто приготовить на ужин быстро и вкусно: куриные маффины с грибами рецепт с фото пошагово\\nЧто приготовить на ужин быстро и вкусно: открытый пирог с семгой и брокколи рецепт с фото\\nЧто приготовить на ужин быстро и вкусно: ризотто с грибами и курицей рецепт с фото пошагово\\nВсе актуальные сюжеты…\\nСетевое издание Служба новостей 050 25 апреля 2017г. зарегистрировано в Федеральной службе по надзору в сфере связи,\\nинформационных технологий и массовых коммуникаций (Роскомнадзор)\\nСвидетельство о регистрации ЭЛ № ФС77-69503\\nУчредитель общество с ограниченной ответственностью «Горсправка-ИНФО»\\nГлавный редактор Давыдов А.В.\\nРуководитель проекта Николаев В.П.\\nАдрес электронной почты редакции 1@0-50.ru\\nТелефон редакции +7 (908) 914-27-00\\nНастоящий ресурс содержит материалы 18+\\n© Горсправка 2009-2019\\n\\r\\n\\r\\n')]"
      ]
     },
     "execution_count": 3,
     "metadata": {},
     "output_type": "execute_result"
    }
   ],
   "source": [
    "rdd.take(3)\n",
    "# [(line_number, partition)]"
   ]
  },
  {
   "cell_type": "code",
   "execution_count": 4,
   "metadata": {},
   "outputs": [
    {
     "data": {
      "text/plain": [
       "3"
      ]
     },
     "execution_count": 4,
     "metadata": {},
     "output_type": "execute_result"
    }
   ],
   "source": [
    "rdd.getNumPartitions()"
   ]
  },
  {
   "cell_type": "code",
   "execution_count": 5,
   "metadata": {},
   "outputs": [
    {
     "name": "stdout",
     "output_type": "stream",
     "text": [
      "http://host-192-168-2-88-de1:4040\n"
     ]
    }
   ],
   "source": [
    "print(spark_context.uiWebUrl)"
   ]
  },
  {
   "cell_type": "code",
   "execution_count": 6,
   "metadata": {},
   "outputs": [
    {
     "name": "stderr",
     "output_type": "stream",
     "text": [
      "[Stage 3:===================>                                       (1 + 2) / 3]\r"
     ]
    },
    {
     "name": "stdout",
     "output_type": "stream",
     "text": [
      "[('and', 1929), ('the', 1920), ('of', 1601), ('to', 1128), ('in', 820), ('a', 589), ('-', 486), ('gif', 414), ('for', 405), ('16x16', 384), ('The', 377), ('from', 346), ('on', 321), ('&', 314), ('Research', 294), ('by', 251), ('will', 235), ('with', 227), ('is', 224), ('Sir', 221), ('you', 217), ('as', 211), ('University', 205), ('', 203), ('that', 175), ('at', 169), ('this', 158), ('be', 154), ('1', 152), ('A.', 150), ('/', 146), ('are', 139), ('or', 133), ('your', 132), ('our', 129), ('an', 126), ('Buchanan,', 112), ('Study', 109), ('This', 107), ('International', 105), ('Our', 105), ('About', 102), ('have', 99), ('Letter', 98), ('students', 98), ('us', 98), ('Contact', 98), ('Group', 94), ('[J.', 93), ('Baron', 92), ('Northumbria', 92), ('about', 92), ('Students', 92), ('2nd', 92), ('A', 90), ('module', 89), ('Bloomfield', 88), ('Bloomfield],', 88), ('we', 87), ('Student', 87)]\n"
     ]
    },
    {
     "name": "stderr",
     "output_type": "stream",
     "text": [
      "                                                                                \r"
     ]
    }
   ],
   "source": [
    "## Example #1 - Filter by Top_level Domain and compute most common words ##\n",
    "\n",
    "# Try .ac.uk, .ru, .se, .com\n",
    "p = re.compile('WARC-Target-URI: \\S+\\.ac.uk', re.IGNORECASE)\n",
    "\n",
    "\n",
    "# Note: .partition(..) returns a 3-tuple: the string before the separator (index 0), \n",
    "# the separotor (index 1), and the part of the string afterwards (index 2) -- which is the part we want.\n",
    "all_words = rdd\\\n",
    "    .filter(lambda doc: bool(p.search(doc[1])))\\\n",
    "    .map(lambda web_text: web_text[1].partition('\\r\\n\\r\\n')[2])\\\n",
    "    .flatMap(lambda t: t.split(' '))\\\n",
    "    .flatMap(lambda w: w.split('\\n'))\\\n",
    "\n",
    "\n",
    "\n",
    "all_words_and_count = all_words.map(lambda w: w.strip())\\\n",
    "    .map(lambda w: (w,1))\n",
    "\n",
    "\n",
    "word_counts = all_words_and_count.reduceByKey(add)\n",
    "\n",
    "print(word_counts.takeOrdered(60, key=lambda x: -x[1]))\n",
    "\n"
   ]
  },
  {
   "cell_type": "code",
   "execution_count": 7,
   "metadata": {},
   "outputs": [
    {
     "name": "stderr",
     "output_type": "stream",
     "text": [
      "                                                                                \r"
     ]
    },
    {
     "name": "stdout",
     "output_type": "stream",
     "text": [
      "Results:\n",
      "com\n"
     ]
    },
    {
     "name": "stderr",
     "output_type": "stream",
     "text": [
      "                                                                                \r"
     ]
    },
    {
     "name": "stdout",
     "output_type": "stream",
     "text": [
      "[('the', 205930), ('to', 171298), ('and', 163704), ('of', 129213), ('a', 124676), ('', 124622), ('-', 100788), ('in', 97609), ('de', 94143), ('for', 73505), ('&', 61972), ('is', 61280), ('on', 47521), ('you', 45383), ('with', 45299), ('|', 43149), ('your', 42377), ('The', 42033), ('►', 40714), ('that', 36216)]\n",
      "ru\n"
     ]
    },
    {
     "name": "stderr",
     "output_type": "stream",
     "text": [
      "                                                                                \r"
     ]
    },
    {
     "name": "stdout",
     "output_type": "stream",
     "text": [
      "[('и', 39462), ('в', 29784), ('', 26258), ('на', 18284), ('для', 17914), ('с', 14339), ('-', 11307), ('по', 8604), ('не', 8586), ('В', 7019), ('от', 6357), ('из', 4856), ('—', 4625), ('к', 4574), ('1', 4315), ('что', 4293), ('/', 3896), ('–', 3848), ('или', 3476), ('0', 3209)]\n",
      "org\n"
     ]
    },
    {
     "name": "stderr",
     "output_type": "stream",
     "text": [
      "                                                                                \r"
     ]
    },
    {
     "name": "stdout",
     "output_type": "stream",
     "text": [
      "[('the', 36365), ('and', 26813), ('of', 25211), ('to', 24733), ('a', 18072), ('in', 16839), ('de', 14641), ('', 13019), ('for', 10472), ('is', 8871), ('-', 7264), ('on', 7223), ('The', 6461), ('by', 6219), ('with', 6022), ('–', 5869), ('that', 5710), ('la', 5667), ('&', 4977), ('are', 4378)]\n",
      "de\n"
     ]
    },
    {
     "name": "stderr",
     "output_type": "stream",
     "text": [
      "                                                                                \r"
     ]
    },
    {
     "name": "stdout",
     "output_type": "stream",
     "text": [
      "[('und', 24108), ('der', 16703), ('die', 15091), ('', 13512), ('in', 13118), ('-', 10455), ('für', 9446), ('von', 8486), ('zu', 7711), ('&', 7182), ('Sie', 6705), ('den', 6443), ('mit', 6375), ('auf', 5533), ('oder', 4769), ('im', 4653), ('the', 4512), ('ist', 4305), ('des', 4273), ('to', 4166)]\n",
      "net\n"
     ]
    },
    {
     "name": "stderr",
     "output_type": "stream",
     "text": [
      "                                                                                \r"
     ]
    },
    {
     "name": "stdout",
     "output_type": "stream",
     "text": [
      "[('in', 11785), ('the', 11752), ('to', 9676), ('and', 8992), ('(1)', 8684), ('a', 8682), ('', 7353), ('►', 7323), ('of', 7194), ('-', 5867), ('de', 5738), ('is', 4441), ('for', 4066), ('on', 3845), ('|', 3459), ('(2)', 3374), ('2023', 2796), ('you', 2779), ('your', 2673), ('by', 2601)]\n",
      "uk\n"
     ]
    },
    {
     "name": "stderr",
     "output_type": "stream",
     "text": [
      "                                                                                \r"
     ]
    },
    {
     "name": "stdout",
     "output_type": "stream",
     "text": [
      "[('the', 16107), ('and', 14054), ('to', 13592), ('of', 10428), ('a', 7402), ('in', 7095), ('&', 5743), ('for', 5426), ('-', 4566), ('is', 4102), ('The', 3684), ('on', 3661), ('(0)', 3389), ('with', 3212), ('you', 3172), ('your', 3101), ('by', 2651), ('are', 2597), ('', 2384), ('that', 2383)]\n",
      "fr\n"
     ]
    },
    {
     "name": "stderr",
     "output_type": "stream",
     "text": [
      "                                                                                \r"
     ]
    },
    {
     "name": "stdout",
     "output_type": "stream",
     "text": [
      "[('de', 25593), ('et', 10347), ('à', 8845), ('la', 8825), ('-', 7000), ('des', 6742), ('les', 6312), ('le', 6001), ('en', 5343), ('du', 5085), (':', 4961), ('pour', 4533), ('/', 3523), ('sur', 3332), ('un', 3217), ('vous', 2913), ('1', 2784), ('au', 2577), ('par', 2504), ('une', 2428)]\n",
      "hu\n"
     ]
    },
    {
     "name": "stderr",
     "output_type": "stream",
     "text": [
      "                                                                                \r"
     ]
    },
    {
     "name": "stdout",
     "output_type": "stream",
     "text": [
      "[('-', 25140), ('a', 21692), ('keresőoptimalizálás,', 16002), ('és', 13508), ('keresőoptimalizálás', 11643), ('havidíjas', 11371), ('az', 10006), ('Weboldal', 6840), ('A', 6797), ('Google', 6464), ('Komplex', 6306), ('Web+', 6205), ('Budapest', 5996), ('havi', 5426), ('Prémium', 5417), ('linképítés,', 5413), ('Az', 4970), ('hogy', 4076), ('weboldal', 3610), ('készítés', 3230)]\n",
      "it\n"
     ]
    },
    {
     "name": "stderr",
     "output_type": "stream",
     "text": [
      "                                                                                \r"
     ]
    },
    {
     "name": "stdout",
     "output_type": "stream",
     "text": [
      "[('di', 15316), ('e', 11487), ('in', 5682), ('per', 5682), ('il', 4749), ('a', 4726), ('la', 4447), ('-', 4056), ('del', 3613), ('che', 3237), ('un', 2887), ('da', 2726), ('con', 2650), ('|', 2594), ('è', 2535), ('i', 2504), ('le', 2456), ('della', 2264), ('al', 2251), ('–', 2119)]\n",
      "pl\n"
     ]
    },
    {
     "name": "stderr",
     "output_type": "stream",
     "text": [
      "[Stage 24:======================================>                   (2 + 1) / 3]\r"
     ]
    },
    {
     "name": "stdout",
     "output_type": "stream",
     "text": [
      "[('', 10220), ('i', 9023), ('w', 8578), ('do', 6921), ('z', 6140), ('na', 5930), ('A;', 4950), ('-', 3873), ('>', 3655), ('się', 3238), ('–', 2539), ('to', 2252), ('dla', 2193), ('o', 1993), ('jest', 1789), ('zł', 1665), ('nie', 1652), ('skup', 1428), ('łożysk', 1412), ('a', 1135)]\n"
     ]
    },
    {
     "name": "stderr",
     "output_type": "stream",
     "text": [
      "                                                                                \r"
     ]
    }
   ],
   "source": [
    "## Example #2 - Group by TLD and compute most common words for each ##\n",
    "\n",
    "ex = \"WARC-Type: conversion\\\n",
    "WARC-Target-URI: http://news.bbc.co.uk/2/hi/africa/3414345.stm\\\n",
    "WARC-Date: 2014-08-02T09:52:13Z\"\n",
    "\n",
    "p = re.compile('WARC-Target-URI: \\S+\\.([a-zA-Z]{2,3})/', re.IGNORECASE)\n",
    "# print(p.search(ex).group(1))\n",
    "# uk\n",
    "\n",
    "def get_tld(content):\n",
    "    match = p.search(content)\n",
    "    if match is not None:\n",
    "        return match.group(1)\n",
    "    else:\n",
    "        return None\n",
    "\n",
    "# discard the line number\n",
    "# partition() -- python function -- split on the first occurance, returns (before,split,after)\n",
    "# filter out those with no TLD\n",
    "\n",
    "    \n",
    "words_by_tld_rdd = rdd\\\n",
    "    .map(lambda filename_content: filename_content[1])\\\n",
    "    .map(lambda content: (get_tld(content), content.partition('\\r\\n\\r\\n')[2]))\\\n",
    "    .filter(lambda tld_content: tld_content[0] is not None)\\\n",
    "    .flatMapValues(lambda words: words.split(' '))\\\n",
    "    .flatMapValues(lambda words: words.split('\\n'))\\\n",
    "    .mapValues(lambda word: word.strip())\n",
    "    #.take(10)\n",
    "\n",
    "# print(words_by_tld_rdd.take(10))\n",
    "\n",
    "tlds = words_by_tld_rdd.countByKey()\n",
    "#print(tlds)\n",
    "\n",
    "tlds = OrderedDict(sorted(tlds.items(), key = itemgetter(1), reverse = True))\n",
    "# print(tlds)  \n",
    "\n",
    "top_tlds = dict(itertools.islice(tlds.items(), 10))\n",
    "\n",
    "# print(top_tlds)\n",
    "\n",
    "print(\"Results:\")\n",
    "\n",
    "for tld in top_tlds:\n",
    "    print(tld)\n",
    "    top_words_for_tld = words_by_tld_rdd\\\n",
    "        .filter(lambda tld_word: tld_word[0] == tld)\\\n",
    "        .values()\\\n",
    "        .map(lambda w: (w,1))\\\n",
    "        .reduceByKey(add)\\\n",
    "        .takeOrdered(20, key=lambda x: -x[1])\n",
    "    print(top_words_for_tld)"
   ]
  },
  {
   "cell_type": "code",
   "execution_count": null,
   "metadata": {},
   "outputs": [],
   "source": []
  },
  {
   "cell_type": "code",
   "execution_count": 8,
   "metadata": {},
   "outputs": [],
   "source": [
    "spark_session.stop()"
   ]
  }
 ],
 "metadata": {
  "kernelspec": {
   "display_name": "Python 3 (ipykernel)",
   "language": "python",
   "name": "python3"
  },
  "language_info": {
   "codemirror_mode": {
    "name": "ipython",
    "version": 3
   },
   "file_extension": ".py",
   "mimetype": "text/x-python",
   "name": "python",
   "nbconvert_exporter": "python",
   "pygments_lexer": "ipython3",
   "version": "3.8.10"
  },
  "toc": {
   "base_numbering": 1,
   "nav_menu": {},
   "number_sections": true,
   "sideBar": true,
   "skip_h1_title": false,
   "title_cell": "Table of Contents",
   "title_sidebar": "Contents",
   "toc_cell": false,
   "toc_position": {},
   "toc_section_display": true,
   "toc_window_display": false
  }
 },
 "nbformat": 4,
 "nbformat_minor": 4
}
